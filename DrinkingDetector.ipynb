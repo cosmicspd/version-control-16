{
 "cells": [
  {
   "cell_type": "code",
   "execution_count": 2,
   "id": "e73e5bd9-0e4c-4c55-b3df-142ed42dda3d",
   "metadata": {},
   "outputs": [
    {
     "name": "stdin",
     "output_type": "stream",
     "text": [
      "What is your name?  Will\n",
      "How old are you?  22\n"
     ]
    },
    {
     "name": "stdout",
     "output_type": "stream",
     "text": [
      "Hello my name is Will !\n",
      "You are legal to drink!!\n"
     ]
    }
   ],
   "source": [
    "# Name Input\n",
    "name = input(prompt=\"What is your name? \")\n",
    "age = input(prompt=\"How old are you? \")\n",
    "print(\"Hello\",\"my name is\", name, \"!\")\n",
    "ageInput = int(age)\n",
    "if ageInput >= 21:\n",
    "    print('You are legal to drink!!')\n",
    "else: \n",
    "    print('You can not drink legally!!')\n",
    "\n",
    "\n"
   ]
  },
  {
   "cell_type": "code",
   "execution_count": null,
   "id": "f492e02a-dbe0-4c43-b717-eea0224564de",
   "metadata": {},
   "outputs": [],
   "source": []
  }
 ],
 "metadata": {
  "kernelspec": {
   "display_name": "Python 3 (ipykernel)",
   "language": "python",
   "name": "python3"
  },
  "language_info": {
   "codemirror_mode": {
    "name": "ipython",
    "version": 3
   },
   "file_extension": ".py",
   "mimetype": "text/x-python",
   "name": "python",
   "nbconvert_exporter": "python",
   "pygments_lexer": "ipython3",
   "version": "3.11.13"
  }
 },
 "nbformat": 4,
 "nbformat_minor": 5
}
